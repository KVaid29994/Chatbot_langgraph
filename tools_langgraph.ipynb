{
 "cells": [
  {
   "cell_type": "code",
   "execution_count": 1,
   "id": "4edc67fd",
   "metadata": {},
   "outputs": [
    {
     "data": {
      "text/plain": [
       "True"
      ]
     },
     "execution_count": 1,
     "metadata": {},
     "output_type": "execute_result"
    }
   ],
   "source": [
    "from langgraph.graph import StateGraph , END, START\n",
    "\n",
    "from typing import TypedDict, Annotated\n",
    "from langchain_core.messages import BaseMessage, HumanMessage\n",
    "from langgraph.graph.message import add_messages\n",
    "\n",
    "from langchain_openai import ChatOpenAI\n",
    "\n",
    "from langgraph.prebuilt import ToolNode, tools_condition\n",
    "from langchain_community.tools import TavilySearchResults\n",
    "from langchain_core.tools import tool\n",
    "\n",
    "import requests\n",
    "import random\n",
    "\n",
    "\n",
    "from dotenv import load_dotenv\n",
    "load_dotenv()"
   ]
  },
  {
   "cell_type": "code",
   "execution_count": 2,
   "id": "ac0dc156",
   "metadata": {},
   "outputs": [],
   "source": [
    "llm = ChatOpenAI()"
   ]
  },
  {
   "cell_type": "code",
   "execution_count": 3,
   "id": "2b0fe918",
   "metadata": {},
   "outputs": [],
   "source": [
    "search_tool = TavilySearchResults(max_results=3, search_depth=\"advanced\")"
   ]
  },
  {
   "cell_type": "code",
   "execution_count": 4,
   "id": "22831880",
   "metadata": {},
   "outputs": [],
   "source": [
    "@tool\n",
    "\n",
    "def calculator(first_num : float, second_num : float, operation :str) -> dict:\n",
    "     \"\"\"\n",
    "    Perform a basic arithmetic operation on two numbers.\n",
    "    Supported operations: add, sub, mul, div\n",
    "    \"\"\"\n",
    "     try:\n",
    "        if operation == \"add\":\n",
    "            result = first_num + second_num\n",
    "\n",
    "        elif operation == \"sub\":\n",
    "            result = first_num - second_num\n",
    "\n",
    "        elif operation == \"mul\":\n",
    "            result = first_num * second_num\n",
    "\n",
    "        elif operation == \"div\":\n",
    "            if second_num == 0:\n",
    "                return {\"error\": \"Division by zero is not allowed\"}\n",
    "            \n",
    "            result = first_num / second_num\n",
    "\n",
    "        else:\n",
    "            return {\"error\": f\"Unsupported operation '{operation}'\"}\n",
    "        \n",
    "        return {\"first_num\": first_num, \"second_num\": second_num, \"operation\": operation, \"result\": result}\n",
    "\n",
    "     except Exception as e:\n",
    "         return {\"error\": str(e)}\n",
    "     \n",
    "\n",
    "@tool\n",
    "\n",
    "def get_stock_price(symbol : str) -> dict:\n",
    "    \"\"\"\n",
    "    Fetch latest stock price for a given symbol (e.g. 'AAPL', 'TSLA') \n",
    "    using Alpha Vantage with API key in the URL.\n",
    "    \"\"\"\n",
    "\n",
    "    url = f\"https://www.alphavantage.co/query?function=GLOBAL_QUOTE&symbol={symbol}&apikey=C9PE94QUEW9VWGFM\"\n",
    "\n",
    "    r = requests.get(url)\n",
    "    return r.json()\n"
   ]
  },
  {
   "cell_type": "code",
   "execution_count": 5,
   "id": "3544b3ed",
   "metadata": {},
   "outputs": [],
   "source": [
    "tools = [get_stock_price, search_tool, calculator]"
   ]
  },
  {
   "cell_type": "code",
   "execution_count": 6,
   "id": "f1d0d90b",
   "metadata": {},
   "outputs": [],
   "source": [
    "llm_with_tools = llm.bind_tools(tools)"
   ]
  },
  {
   "cell_type": "code",
   "execution_count": 7,
   "id": "8d83f5ad",
   "metadata": {},
   "outputs": [],
   "source": [
    "class ChatState(TypedDict):\n",
    "    messages : Annotated[list[BaseMessage], add_messages]"
   ]
  },
  {
   "cell_type": "code",
   "execution_count": 9,
   "id": "215e3503",
   "metadata": {},
   "outputs": [],
   "source": [
    "def chat_node(state: ChatState):\n",
    "    \"\"\"LLM node that may answer or request a tool call.\"\"\"\n",
    "    messages = state['messages']\n",
    "    response = llm_with_tools.invoke(messages)\n",
    "    return {\"messages\":[response]}\n",
    "\n",
    "tool_node = ToolNode(tools)"
   ]
  },
  {
   "cell_type": "code",
   "execution_count": 13,
   "id": "60e7b7cd",
   "metadata": {},
   "outputs": [
    {
     "data": {
      "text/plain": [
       "<langgraph.graph.state.StateGraph at 0x2cf9bf3ade0>"
      ]
     },
     "execution_count": 13,
     "metadata": {},
     "output_type": "execute_result"
    }
   ],
   "source": [
    "graph = StateGraph(ChatState)\n",
    "\n",
    "graph.add_node(\"chat_node\", chat_node)\n",
    "graph.add_node(\"tools\", tool_node)\n",
    "\n",
    "\n",
    "graph.add_edge(START, \"chat_node\")\n",
    "\n",
    "graph.add_conditional_edges(\"chat_node\",tools_condition) ##tools condition helps you route automatically\n",
    "\n",
    "graph.add_edge(\"tools\", \"chat_node\")\n"
   ]
  },
  {
   "cell_type": "code",
   "execution_count": 14,
   "id": "c11cef22",
   "metadata": {},
   "outputs": [
    {
     "data": {
      "image/png": "[encoded data removed]",
      "text/plain": [
       "<langgraph.graph.state.CompiledStateGraph object at 0x000002CF9BE9FF50>"
      ]
     },
     "execution_count": 14,
     "metadata": {},
     "output_type": "execute_result"
    }
   ],
   "source": [
    "graph.compile()"
   ]
  },
  {
   "cell_type": "code",
   "execution_count": 15,
   "id": "ea228a93",
   "metadata": {},
   "outputs": [],
   "source": [
    "chatbot = graph.compile()"
   ]
  },
  {
   "cell_type": "code",
   "execution_count": 16,
   "id": "ed64c70a",
   "metadata": {},
   "outputs": [
    {
     "name": "stdout",
     "output_type": "stream",
     "text": [
      "{'messages': [HumanMessage(content='hello!', additional_kwargs={}, response_metadata={}, id='cff2edd9-5f24-41f2-9d15-8f427478ba63'), AIMessage(content='Hello! How can I assist you today?', additional_kwargs={'refusal': None}, response_metadata={'token_usage': {'completion_tokens': 10, 'prompt_tokens': 177, 'total_tokens': 187, 'completion_tokens_details': {'accepted_prediction_tokens': 0, 'audio_tokens': 0, 'reasoning_tokens': 0, 'rejected_prediction_tokens': 0}, 'prompt_tokens_details': {'audio_tokens': 0, 'cached_tokens': 0}}, 'model_name': 'gpt-3.5-turbo-0125', 'system_fingerprint': None, 'finish_reason': 'stop', 'logprobs': None}, id='run--90e9b78d-0c30-4c44-a959-e64b30f0fc23-0', usage_metadata={'input_tokens': 177, 'output_tokens': 10, 'total_tokens': 187, 'input_token_details': {'audio': 0, 'cache_read': 0}, 'output_token_details': {'audio': 0, 'reasoning': 0}})]}\n"
     ]
    }
   ],
   "source": [
    "out = chatbot.invoke({\"messages\": [HumanMessage(content = \"hello!\")]})\n",
    "print (out)"
   ]
  },
  {
   "cell_type": "code",
   "execution_count": 19,
   "id": "59f002f5",
   "metadata": {},
   "outputs": [
    {
     "name": "stdout",
     "output_type": "stream",
     "text": [
      "Hello! How can I assist you today?\n"
     ]
    }
   ],
   "source": [
    "print (out['messages'][-1].content)"
   ]
  },
  {
   "cell_type": "code",
   "execution_count": 20,
   "id": "1b4856d2",
   "metadata": {},
   "outputs": [
    {
     "name": "stdout",
     "output_type": "stream",
     "text": [
      "The result of 2 * 3 is 6.\n"
     ]
    }
   ],
   "source": [
    "out = chatbot.invoke({\"messages\": [HumanMessage(content=\"What is 2*3?\")]})\n",
    "print(out[\"messages\"][-1].content)"
   ]
  },
  {
   "cell_type": "code",
   "execution_count": 21,
   "id": "5364dad8",
   "metadata": {},
   "outputs": [
    {
     "data": {
      "text/plain": [
       "{'messages': [HumanMessage(content='What is 2*3?', additional_kwargs={}, response_metadata={}, id='099c4f58-80ea-40bf-8f0f-2381973083be'),\n",
       "  AIMessage(content='', additional_kwargs={'tool_calls': [{'id': 'call_c2tY5W2lRpwYJayKXEqryonB', 'function': {'arguments': '{\"first_num\":2,\"operation\":\"mul\",\"second_num\":3}', 'name': 'calculator'}, 'type': 'function'}], 'refusal': None}, response_metadata={'token_usage': {'completion_tokens': 24, 'prompt_tokens': 182, 'total_tokens': 206, 'completion_tokens_details': {'accepted_prediction_tokens': 0, 'audio_tokens': 0, 'reasoning_tokens': 0, 'rejected_prediction_tokens': 0}, 'prompt_tokens_details': {'audio_tokens': 0, 'cached_tokens': 0}}, 'model_name': 'gpt-3.5-turbo-0125', 'system_fingerprint': None, 'finish_reason': 'tool_calls', 'logprobs': None}, id='run--922310dd-56a8-4aad-a8eb-f05a685d30b5-0', tool_calls=[{'name': 'calculator', 'args': {'first_num': 2, 'operation': 'mul', 'second_num': 3}, 'id': 'call_c2tY5W2lRpwYJayKXEqryonB', 'type': 'tool_call'}], usage_metadata={'input_tokens': 182, 'output_tokens': 24, 'total_tokens': 206, 'input_token_details': {'audio': 0, 'cache_read': 0}, 'output_token_details': {'audio': 0, 'reasoning': 0}}),\n",
       "  ToolMessage(content='{\"first_num\": 2.0, \"second_num\": 3.0, \"operation\": \"mul\", \"result\": 6.0}', name='calculator', id='e375e802-2217-4eef-8c38-8439234cba00', tool_call_id='call_c2tY5W2lRpwYJayKXEqryonB'),\n",
       "  AIMessage(content='The result of 2 * 3 is 6.', additional_kwargs={'refusal': None}, response_metadata={'token_usage': {'completion_tokens': 13, 'prompt_tokens': 245, 'total_tokens': 258, 'completion_tokens_details': {'accepted_prediction_tokens': 0, 'audio_tokens': 0, 'reasoning_tokens': 0, 'rejected_prediction_tokens': 0}, 'prompt_tokens_details': {'audio_tokens': 0, 'cached_tokens': 0}}, 'model_name': 'gpt-3.5-turbo-0125', 'system_fingerprint': None, 'finish_reason': 'stop', 'logprobs': None}, id='run--9d776dfc-555a-47ef-9a3a-06adb71bfd9e-0', usage_metadata={'input_tokens': 245, 'output_tokens': 13, 'total_tokens': 258, 'input_token_details': {'audio': 0, 'cache_read': 0}, 'output_token_details': {'audio': 0, 'reasoning': 0}})]}"
      ]
     },
     "execution_count": 21,
     "metadata": {},
     "output_type": "execute_result"
    }
   ],
   "source": [
    "out"
   ]
  },
  {
   "cell_type": "code",
   "execution_count": 22,
   "id": "5f382caf",
   "metadata": {},
   "outputs": [
    {
     "name": "stdout",
     "output_type": "stream",
     "text": [
      "The latest stock price of Apple (AAPL) is $229.72.\n"
     ]
    }
   ],
   "source": [
    "out2 = chatbot.invoke({\"messages\": [HumanMessage(content=\"What is the stock price of apple\")]})\n",
    "print(out2[\"messages\"][-1].content)"
   ]
  },
  {
   "cell_type": "code",
   "execution_count": 30,
   "id": "debc9ce9",
   "metadata": {},
   "outputs": [
    {
     "data": {
      "text/plain": [
       "AIMessage(content='The latest stock price of Apple (AAPL) is $229.72.', additional_kwargs={'refusal': None}, response_metadata={'token_usage': {'completion_tokens': 17, 'prompt_tokens': 325, 'total_tokens': 342, 'completion_tokens_details': {'accepted_prediction_tokens': 0, 'audio_tokens': 0, 'reasoning_tokens': 0, 'rejected_prediction_tokens': 0}, 'prompt_tokens_details': {'audio_tokens': 0, 'cached_tokens': 0}}, 'model_name': 'gpt-3.5-turbo-0125', 'system_fingerprint': None, 'finish_reason': 'stop', 'logprobs': None}, id='run--ba40faaa-524b-41c9-b106-fdef8883f593-0', usage_metadata={'input_tokens': 325, 'output_tokens': 17, 'total_tokens': 342, 'input_token_details': {'audio': 0, 'cache_read': 0}, 'output_token_details': {'audio': 0, 'reasoning': 0}})"
      ]
     },
     "execution_count": 30,
     "metadata": {},
     "output_type": "execute_result"
    }
   ],
   "source": [
    "out2['messages'][3]"
   ]
  },
  {
   "cell_type": "code",
   "execution_count": null,
   "id": "1a8a057b",
   "metadata": {},
   "outputs": [],
   "source": [
    "# Chat requiring tool\n",
    "out3 = chatbot.invoke({\"messages\": [HumanMessage(content=\"First find out the stock price of Apple using get stock price tool then use the calculator tool to find out how much will it take to purchase 50 shares?\")]})\n",
    "print(out3[\"messages\"][-1].content)"
   ]
  }
 ],
 "metadata": {
  "kernelspec": {
   "display_name": "base",
   "language": "python",
   "name": "python3"
  },
  "language_info": {
   "codemirror_mode": {
    "name": "ipython",
    "version": 3
   },
   "file_extension": ".py",
   "mimetype": "text/x-python",
   "name": "python",
   "nbconvert_exporter": "python",
   "pygments_lexer": "ipython3",
   "version": "3.12.7"
  }
 },
 "nbformat": 4,
 "nbformat_minor": 5
}
